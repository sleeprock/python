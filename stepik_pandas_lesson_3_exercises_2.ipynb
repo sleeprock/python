{
 "cells": [
  {
   "cell_type": "code",
   "execution_count": 1,
   "id": "8343d259",
   "metadata": {},
   "outputs": [],
   "source": [
    "import pandas as pd"
   ]
  },
  {
   "cell_type": "code",
   "execution_count": 70,
   "id": "469582ee",
   "metadata": {},
   "outputs": [],
   "source": [
    "import seaborn as sns\n",
    "import matplotlib.pyplot as plt"
   ]
  },
  {
   "cell_type": "code",
   "execution_count": 19,
   "id": "307fda67",
   "metadata": {},
   "outputs": [],
   "source": [
    "# Загрузите датасет, используя ; в качестве разделителя. \n",
    "# Также укажите, что столбцы start_at, end_at, arrived_at нужно прочитать как\n",
    "# даты (параметр parse_dates).\n",
    "# Результат запишите в taxi\n",
    "taxi = pd.read_csv('https://stepik.org/media/attachments/lesson/359240/taxi_peru.csv', parse_dates=['start_at', 'end_at', 'arrived_at'], sep=';')"
   ]
  },
  {
   "cell_type": "code",
   "execution_count": 34,
   "id": "c0f428e3",
   "metadata": {},
   "outputs": [
    {
     "data": {
      "text/plain": [
       "9741"
      ]
     },
     "execution_count": 34,
     "metadata": {},
     "output_type": "execute_result"
    }
   ],
   "source": [
    "# Проверьте, с какой платформы было сделано больше всего заказов.\n",
    "# В ответе укажите значение в %, округлённое до целого.\n",
    "\n",
    "taxi.source.value_counts().max()"
   ]
  },
  {
   "cell_type": "code",
   "execution_count": 35,
   "id": "f051afe3",
   "metadata": {},
   "outputs": [
    {
     "data": {
      "text/plain": [
       "22988"
      ]
     },
     "execution_count": 35,
     "metadata": {},
     "output_type": "execute_result"
    }
   ],
   "source": [
    "taxi.source.value_counts().sum()"
   ]
  },
  {
   "cell_type": "code",
   "execution_count": 38,
   "id": "919b86c8",
   "metadata": {},
   "outputs": [
    {
     "data": {
      "text/plain": [
       "42.0"
      ]
     },
     "execution_count": 38,
     "metadata": {},
     "output_type": "execute_result"
    }
   ],
   "source": [
    "(taxi.source.value_counts().max() / taxi.source.value_counts().sum() * 100).round()"
   ]
  },
  {
   "cell_type": "code",
   "execution_count": 42,
   "id": "1b2dca0d",
   "metadata": {},
   "outputs": [
    {
     "data": {
      "text/plain": [
       "42.0"
      ]
     },
     "execution_count": 42,
     "metadata": {},
     "output_type": "execute_result"
    }
   ],
   "source": [
    "#тоже самое с value_counts normalize\n",
    "(taxi.source.value_counts(normalize='True')*100).round().max()"
   ]
  },
  {
   "cell_type": "code",
   "execution_count": 67,
   "id": "c7e78c63",
   "metadata": {},
   "outputs": [],
   "source": [
    "# 1. Посчитайте частоту встречаемости каждой из оценок\n",
    "# 2. Переведите в проценты и округлите до 2 знаков после точки (.mul(100).round(2))\n",
    "# 3. Сбросьте индексы\n",
    "# 4. Переименуйте колонки в driver_score и percentage\n",
    "# 5. Отсортируйте по driver_score в порядке возрастания (от 0 до 5)\n",
    "# 6. Запишите результат в driver_score_counts\n",
    "driver_score_counts = taxi.driver_score \\\n",
    "    .value_counts(normalize='True') \\\n",
    "    .mul(100).round(2) \\\n",
    "    .reset_index() \\\n",
    "    .rename(columns={'index': 'driver_score', 'driver_score': 'percentage'}) \\\n",
    "    .sort_values('driver_score')"
   ]
  },
  {
   "cell_type": "code",
   "execution_count": 68,
   "id": "f7f3dc9d",
   "metadata": {},
   "outputs": [
    {
     "data": {
      "text/html": [
       "<div>\n",
       "<style scoped>\n",
       "    .dataframe tbody tr th:only-of-type {\n",
       "        vertical-align: middle;\n",
       "    }\n",
       "\n",
       "    .dataframe tbody tr th {\n",
       "        vertical-align: top;\n",
       "    }\n",
       "\n",
       "    .dataframe thead th {\n",
       "        text-align: right;\n",
       "    }\n",
       "</style>\n",
       "<table border=\"1\" class=\"dataframe\">\n",
       "  <thead>\n",
       "    <tr style=\"text-align: right;\">\n",
       "      <th></th>\n",
       "      <th>driver_score</th>\n",
       "      <th>percentage</th>\n",
       "    </tr>\n",
       "  </thead>\n",
       "  <tbody>\n",
       "    <tr>\n",
       "      <th>2</th>\n",
       "      <td>0.0</td>\n",
       "      <td>14.30</td>\n",
       "    </tr>\n",
       "    <tr>\n",
       "      <th>4</th>\n",
       "      <td>1.0</td>\n",
       "      <td>1.23</td>\n",
       "    </tr>\n",
       "    <tr>\n",
       "      <th>5</th>\n",
       "      <td>2.0</td>\n",
       "      <td>0.81</td>\n",
       "    </tr>\n",
       "    <tr>\n",
       "      <th>3</th>\n",
       "      <td>3.0</td>\n",
       "      <td>2.97</td>\n",
       "    </tr>\n",
       "    <tr>\n",
       "      <th>1</th>\n",
       "      <td>4.0</td>\n",
       "      <td>21.88</td>\n",
       "    </tr>\n",
       "    <tr>\n",
       "      <th>0</th>\n",
       "      <td>5.0</td>\n",
       "      <td>58.81</td>\n",
       "    </tr>\n",
       "  </tbody>\n",
       "</table>\n",
       "</div>"
      ],
      "text/plain": [
       "   driver_score  percentage\n",
       "2           0.0       14.30\n",
       "4           1.0        1.23\n",
       "5           2.0        0.81\n",
       "3           3.0        2.97\n",
       "1           4.0       21.88\n",
       "0           5.0       58.81"
      ]
     },
     "execution_count": 68,
     "metadata": {},
     "output_type": "execute_result"
    }
   ],
   "source": [
    "driver_score_counts"
   ]
  },
  {
   "cell_type": "code",
   "execution_count": 76,
   "id": "eb43c6f5",
   "metadata": {},
   "outputs": [
    {
     "data": {
      "image/png": "[encoded data removed]",
      "text/plain": [
       "<Figure size 432x288 with 1 Axes>"
      ]
     },
     "metadata": {
      "needs_background": "light"
     },
     "output_type": "display_data"
    }
   ],
   "source": [
    "ax = sns.barplot(x='driver_score', y='percentage', data=driver_score_counts, color='blue', alpha=0.5)\n",
    "ax.set(xlabel='Driver Score', ylabel='Percentage')\n",
    "sns.despine()  # убрать часть рамки графика\n",
    "plt.show()"
   ]
  },
  {
   "cell_type": "code",
   "execution_count": 90,
   "id": "8769716c",
   "metadata": {},
   "outputs": [],
   "source": [
    "# Проделайте аналогичные шаги для rider_score (оценок клиентов водителями), не забыв построить график.\n",
    "# В чем его отличие от распределения оценок водителей?\n",
    "\n",
    "rider_score_counts = taxi.rider_score \\\n",
    "     .value_counts(normalize='True') \\\n",
    "     .mul(100).round(2) \\\n",
    "     .reset_index() \\\n",
    "     .rename(columns={'index': 'rider_score', 'rider_score': 'percentage'}) \\\n",
    "     .sort_values('rider_score')"
   ]
  },
  {
   "cell_type": "code",
   "execution_count": 100,
   "id": "238b869e",
   "metadata": {},
   "outputs": [
    {
     "data": {
      "image/png": "[encoded data removed]",
      "text/plain": [
       "<Figure size 432x288 with 1 Axes>"
      ]
     },
     "metadata": {
      "needs_background": "light"
     },
     "output_type": "display_data"
    }
   ],
   "source": [
    "ax = sns.barplot(x='rider_score', y='percentage', data=rider_score_counts, color='blue', alpha=0.5)\n",
    "ax.set(xlabel='Rider Score', ylabel='Percentage')\n",
    "sns.despine()\n",
    "plt.show()"
   ]
  }
 ],
 "metadata": {
  "kernelspec": {
   "display_name": "Python 3 (ipykernel)",
   "language": "python",
   "name": "python3"
  },
  "language_info": {
   "codemirror_mode": {
    "name": "ipython",
    "version": 3
   },
   "file_extension": ".py",
   "mimetype": "text/x-python",
   "name": "python",
   "nbconvert_exporter": "python",
   "pygments_lexer": "ipython3",
   "version": "3.9.9"
  }
 },
 "nbformat": 4,
 "nbformat_minor": 5
}
